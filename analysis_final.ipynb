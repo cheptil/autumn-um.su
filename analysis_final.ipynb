{
 "cells": [
  {
   "cell_type": "code",
   "execution_count": 1,
   "metadata": {},
   "outputs": [],
   "source": [
    "from collections import defaultdict"
   ]
  },
  {
   "cell_type": "code",
   "execution_count": 2,
   "metadata": {},
   "outputs": [
    {
     "name": "stdout",
     "output_type": "stream",
     "text": [
      "331 157 173 1\n"
     ]
    }
   ],
   "source": [
    "facts = defaultdict(set)\n",
    "count = 0\n",
    "f=0\n",
    "m=0\n",
    "n=0\n",
    "with open(\"списки_осенний_бал_fm.csv\") as ff:\n",
    "    for i in ff.readlines()[1:]:\n",
    "        count += 1\n",
    "        ii = i.rstrip().split(';')\n",
    "        if ii[0] == 'f':\n",
    "            f = f + 1\n",
    "        elif ii[0] == 'm':\n",
    "            m = m + 1\n",
    "        elif ii[0] == '?':\n",
    "            n = n + 1\n",
    "        facts[ii[4]].add(' '.join(filter(None, ii[:-1])))\n",
    "print(count, m, f, n)"
   ]
  },
  {
   "cell_type": "code",
   "execution_count": 3,
   "metadata": {},
   "outputs": [
    {
     "data": {
      "text/plain": [
       "331"
      ]
     },
     "execution_count": 3,
     "metadata": {},
     "output_type": "execute_result"
    }
   ],
   "source": [
    "sum(len(facts[i]) for i in facts)"
   ]
  },
  {
   "cell_type": "code",
   "execution_count": 4,
   "metadata": {},
   "outputs": [
    {
     "data": {
      "text/plain": [
       "116"
      ]
     },
     "execution_count": 4,
     "metadata": {},
     "output_type": "execute_result"
    }
   ],
   "source": [
    "len(list(facts.keys()))"
   ]
  },
  {
   "cell_type": "code",
   "execution_count": 5,
   "metadata": {},
   "outputs": [],
   "source": [
    "def popper(names):\n",
    "    global facts\n",
    "    for name in names[1:]:\n",
    "        facts[names[0]]=facts[names[0]].union(facts[name])\n",
    "        print(facts.pop(name))\n",
    "    return sum(len(facts[i]) for i in facts)"
   ]
  },
  {
   "cell_type": "code",
   "execution_count": 6,
   "metadata": {},
   "outputs": [
    {
     "data": {
      "text/plain": [
       "331"
      ]
     },
     "execution_count": 6,
     "metadata": {},
     "output_type": "execute_result"
    }
   ],
   "source": [
    "popper([])"
   ]
  },
  {
   "cell_type": "markdown",
   "metadata": {},
   "source": [
    "'Академический хор МГУ',\n",
    "\n",
    " 'Биологический',\n",
    " 'Биофак',\n",
    " 'биол',\n",
    " 'биологический',\n",
    " 'биофак',\n",
    " 'бф',"
   ]
  },
  {
   "cell_type": "code",
   "execution_count": 7,
   "metadata": {},
   "outputs": [
    {
     "name": "stdout",
     "output_type": "stream",
     "text": [
      "{'f Швырева Елена Александровна Биологический', 'f Абдуллина Дина Василовна Биологический', 'f Кусакина Ксения Алексеевна Биологический', 'f Арасланова Карина Рустамовна Биологический', 'f Котлярова Елизавета Владимировна Биологический'}\n",
      "{'f Смешнова Дарья Сергеевна биол'}\n",
      "{'f Ветрова Мария Алексеевна биологический', 'f Воронина Алиса Константиновна биологический', 'f Зиновьева Татьяна Дмитриевна биологический'}\n",
      "{'f Черкашина Ольга Леонидовна биофак'}\n",
      "{'f Ласкина Татьяна Александровна бф'}\n"
     ]
    },
    {
     "data": {
      "text/plain": [
       "331"
      ]
     },
     "execution_count": 7,
     "metadata": {},
     "output_type": "execute_result"
    }
   ],
   "source": [
    "popper([\n",
    " 'Биофак',\n",
    " 'Биологический',\n",
    " 'биол',\n",
    " 'биологический',\n",
    " 'биофак',\n",
    " 'бф'\n",
    "])"
   ]
  },
  {
   "cell_type": "markdown",
   "metadata": {},
   "source": [
    " 'ВМК',\n",
    " 'ВМиК',\n",
    " 'Вмк',\n",
    " 'вмк',\n",
    " \n",
    " 'ВШГА',\n",
    " \n",
    " 'ВШТ',\n",
    "'Вшт',\n",
    "\n",
    " 'Вшп',"
   ]
  },
  {
   "cell_type": "code",
   "execution_count": 8,
   "metadata": {},
   "outputs": [
    {
     "name": "stdout",
     "output_type": "stream",
     "text": [
      "{'m Ефремов Денис Валентинович ВМиК'}\n",
      "{'m Оболенский Владимир Михайлович Вмк', 'm Будюк Алексей Михайлович Вмк', 'f Прошина Алена Дмитриевна Вмк'}\n",
      "{'f Окунева Анна Сергеевна вмк', '? Нгуен Кхань Кхуен вмк', 'f Шамаева Елена Денисовна вмк'}\n"
     ]
    },
    {
     "data": {
      "text/plain": [
       "331"
      ]
     },
     "execution_count": 8,
     "metadata": {},
     "output_type": "execute_result"
    }
   ],
   "source": [
    "popper([ 'ВМК',\n",
    " 'ВМиК',\n",
    " 'Вмк',\n",
    " 'вмк'])\n"
   ]
  },
  {
   "cell_type": "code",
   "execution_count": 9,
   "metadata": {},
   "outputs": [
    {
     "name": "stdout",
     "output_type": "stream",
     "text": [
      "{'f Файзуллина Элина Эдуардовна Вшт'}\n"
     ]
    },
    {
     "data": {
      "text/plain": [
       "331"
      ]
     },
     "execution_count": 9,
     "metadata": {},
     "output_type": "execute_result"
    }
   ],
   "source": [
    "popper([ 'ВШТ',\n",
    "'Вшт'])"
   ]
  },
  {
   "cell_type": "markdown",
   "metadata": {},
   "source": [
    " 'Геогр',\n",
    " 'Географический',\n",
    " 'геогр',\n",
    " 'географ',\n",
    " 'географический',\n",
    " \n",
    " 'Геологический',\n",
    "  'геол',\n",
    " 'геологический',\n",
    " \n",
    " 'Геофак',\n",
    " \n",
    "  'Глобальные процессы',\n",
    " \n",
    " 'Государственное управление',"
   ]
  },
  {
   "cell_type": "code",
   "execution_count": 10,
   "metadata": {},
   "outputs": [
    {
     "name": "stdout",
     "output_type": "stream",
     "text": [
      "{'f Зелихина Светлана Васильевна Геогр'}\n",
      "{'f Пахомова Неонилла Геннадьевна геогр', 'm Сорокин Олег Викторович геогр', 'f Лапшина Елена Михайловна геогр'}\n",
      "{'f Енчилик Полина Романовна географ'}\n",
      "{'f Дубровская Татьяна Валерьевна географический', 'm Лопатин Андрей Валерьевич географический'}\n"
     ]
    },
    {
     "data": {
      "text/plain": [
       "331"
      ]
     },
     "execution_count": 10,
     "metadata": {},
     "output_type": "execute_result"
    }
   ],
   "source": [
    "popper(['Географический',\n",
    " 'Геогр',\n",
    " 'геогр',\n",
    " 'географ',\n",
    " 'географический'])"
   ]
  },
  {
   "cell_type": "code",
   "execution_count": 11,
   "metadata": {},
   "outputs": [
    {
     "name": "stdout",
     "output_type": "stream",
     "text": [
      "{'m Сандалов Федор Дмитриевич геол'}\n",
      "{'m Перегудов Юрий Дмитриевич геологический', 'f Егошина Евгения Денисовна геологический'}\n"
     ]
    },
    {
     "data": {
      "text/plain": [
       "331"
      ]
     },
     "execution_count": 11,
     "metadata": {},
     "output_type": "execute_result"
    }
   ],
   "source": [
    "popper(['Геологический',\n",
    "  'геол',\n",
    " 'геологический'])"
   ]
  },
  {
   "cell_type": "markdown",
   "metadata": {},
   "source": [
    " 'Журналистика',\n",
    " 'Журналистики',\n",
    " 'Журналистки',\n",
    " 'Журфак',\n",
    "  'журналистики',\n",
    " \n",
    " 'ИСАА',\n",
    " 'Институт стран Азии и Африки',\n",
    " 'Исаа',\n",
    " \n",
    " 'Искусств',"
   ]
  },
  {
   "cell_type": "code",
   "execution_count": 12,
   "metadata": {},
   "outputs": [
    {
     "name": "stdout",
     "output_type": "stream",
     "text": [
      "{'m Кривалов Иван Арсеньевич Журналистика'}\n",
      "{'f Попова Софья Владимировна Журналистки'}\n",
      "{'f Кутовая Фаина Владимировна Журфак'}\n",
      "{'f Масалимова Тамара Ураловна журналистики', 'f Коршунова Дарья Алексеевна журналистики'}\n"
     ]
    },
    {
     "data": {
      "text/plain": [
       "331"
      ]
     },
     "execution_count": 12,
     "metadata": {},
     "output_type": "execute_result"
    }
   ],
   "source": [
    "popper(['Журналистики',\n",
    " 'Журналистика',\n",
    " 'Журналистки',\n",
    " 'Журфак',\n",
    " 'журналистики'])"
   ]
  },
  {
   "cell_type": "code",
   "execution_count": 13,
   "metadata": {},
   "outputs": [
    {
     "name": "stdout",
     "output_type": "stream",
     "text": [
      "{'m Косырев Степан Максимович Институт стран Азии и Африки'}\n",
      "{'m Кобозев Ярослав Сергеевич Исаа'}\n"
     ]
    },
    {
     "data": {
      "text/plain": [
       "331"
      ]
     },
     "execution_count": 13,
     "metadata": {},
     "output_type": "execute_result"
    }
   ],
   "source": [
    "popper(['ИСАА',\n",
    " 'Институт стран Азии и Африки',\n",
    " 'Исаа',])"
   ]
  },
  {
   "cell_type": "markdown",
   "metadata": {},
   "source": [
    " 'Ист',\n",
    " 'Исторический',\n",
    " 'Исторический факультет',\n",
    " 'Истфак',\n",
    " 'исторический',\n",
    " 'истфак',\n",
    " \n",
    " 'МехМат',\n",
    " 'Механико-математиеский',\n",
    " 'Механико-математический',\n",
    " 'Мехмат',\n",
    "  'механико-математический',\n",
    " 'мехмат',\n",
    " \n",
    " 'Мировой политики',\n",
    " \n",
    " 'НИИ мех',\n",
    " 'НИИ механики',"
   ]
  },
  {
   "cell_type": "code",
   "execution_count": 14,
   "metadata": {},
   "outputs": [
    {
     "name": "stdout",
     "output_type": "stream",
     "text": [
      "{'f Загора Марина Григорьевна Ист', 'm Дронов Александр Михайлович Ист'}\n",
      "{'m Частухин Дмитрий Эдуардович Исторический факультет'}\n",
      "{'f Сучкова Александра Николаевна Истфак'}\n",
      "{'f Боже Анастасия . исторический'}\n",
      "{'f Владимирцева Анастасия Сергеевна истфак', 'f Афанасьева Мария Борисовна истфак'}\n"
     ]
    },
    {
     "data": {
      "text/plain": [
       "331"
      ]
     },
     "execution_count": 14,
     "metadata": {},
     "output_type": "execute_result"
    }
   ],
   "source": [
    "popper(['Исторический',\n",
    " 'Ист',\n",
    " 'Исторический факультет',\n",
    " 'Истфак',\n",
    " 'исторический',\n",
    " 'истфак'])"
   ]
  },
  {
   "cell_type": "code",
   "execution_count": 15,
   "metadata": {},
   "outputs": [
    {
     "name": "stdout",
     "output_type": "stream",
     "text": [
      "{'m Черников Иван Андреевич Механико-математиеский'}\n",
      "{'f Котляров Никита Владимирович Механико-математический', 'm Голенков Кирилл Константинович Механико-математический', 'm Маслов Сергей Алексеевич Механико-математический', 'm Фуфаев Владимир Владимирович Механико-математический'}\n",
      "{'f Ходякова Мария Александровна Мехмат', 'm Сунгоркин Максим Павлович Мехмат', 'm Ахметшин Булат Рустемович Мехмат', 'f Никитина Наталья Константиновна Мехмат', 'f Краснова Анастасия Александровна Мехмат', 'm Муралев Денис Станиславович Мехмат', 'm Емельянов Владимир Андреевич Мехмат', 'm Смольянов Данил Ильич Мехмат', 'f Юриков Никита Юрьевич Мехмат', 'm Клюев Андрей Игоревич Мехмат', 'f Белоножка Елена Андреевна Мехмат', 'm Кудасов Матвей Джамалханович Мехмат', 'm Махов Денис Дмитриевич Мехмат', 'm Бекбулатов Рамзан Ломалиевич Мехмат'}\n",
      "{'m Разинков Александр Александрович механико-математический', 'm Фаерштейн Игорь Семенович механико-математический', 'm Цимбалов Юрий Александрович механико-математический', 'm Лейбов Сергей Александрович механико-математический'}\n",
      "{'m Мельников Евгений Юрьевич мехмат', 'm Сапунов Кирилл Вячеславович мехмат', 'f Оревкова Александра Степановна мехмат', 'f Дяченко Мария Игоревна мехмат', 'm Гожев Михаил Николаевич мехмат', 'm Тонконогов Александр Владиславович мехмат'}\n"
     ]
    },
    {
     "data": {
      "text/plain": [
       "331"
      ]
     },
     "execution_count": 15,
     "metadata": {},
     "output_type": "execute_result"
    }
   ],
   "source": [
    "popper(['МехМат',\n",
    " 'Механико-математиеский',\n",
    " 'Механико-математический',\n",
    " 'Мехмат',\n",
    "  'механико-математический',\n",
    " 'мехмат',])"
   ]
  },
  {
   "cell_type": "code",
   "execution_count": 16,
   "metadata": {},
   "outputs": [
    {
     "name": "stdout",
     "output_type": "stream",
     "text": [
      "{'m Терауд Валентин Викторович НИИ мех'}\n"
     ]
    },
    {
     "data": {
      "text/plain": [
       "331"
      ]
     },
     "execution_count": 16,
     "metadata": {},
     "output_type": "execute_result"
    }
   ],
   "source": [
    "popper(['НИИ механики',\n",
    " 'НИИ мех'])"
   ]
  },
  {
   "cell_type": "markdown",
   "metadata": {},
   "source": [
    " 'ПОЧВОВЕДЕНИЕ',\n",
    " 'Почв',\n",
    " 'Почва',\n",
    " 'Почвоведение',\n",
    " 'Почвоведения',\n",
    "  'почва',\n",
    " 'почвоведение',\n",
    " 'почвоведения',\n",
    " \n",
    " 'Психологии',\n",
    "  'психологии',\n",
    "\n",
    " 'Социологический',\n",
    " 'Соцфак',\n",
    "  'социологический',\n",
    " 'соцфак',"
   ]
  },
  {
   "cell_type": "code",
   "execution_count": 17,
   "metadata": {},
   "outputs": [
    {
     "name": "stdout",
     "output_type": "stream",
     "text": [
      "{'f Барашкова Анастасия Андреевна ПОЧВОВЕДЕНИЕ'}\n",
      "{'f Дунаева Анастасия Алексеевна Почв', 'm Меркин Вадим Алексеевич Почв'}\n",
      "{'m Углов Михаил Сергеевич Почва', 'f Шишкина Елизавета Игоревна Почва'}\n",
      "{'f Брылева Алина Сергеевна Почвоведение'}\n",
      "{'f Бунькова Ольга Михайловна почва', 'm Николаев Станислав Геннадьевич почва', 'f Головлева Юлия Андреевна почва'}\n",
      "{'f Бондарь Александра Игоревна почвоведение'}\n",
      "{'f Янович Анастасия Сергеевна почвоведения'}\n"
     ]
    },
    {
     "data": {
      "text/plain": [
       "331"
      ]
     },
     "execution_count": 17,
     "metadata": {},
     "output_type": "execute_result"
    }
   ],
   "source": [
    "popper(['Почвоведения', \n",
    " 'ПОЧВОВЕДЕНИЕ',\n",
    " 'Почв',\n",
    " 'Почва',\n",
    " 'Почвоведение',\n",
    " 'почва',\n",
    " 'почвоведение',\n",
    " 'почвоведения'])"
   ]
  },
  {
   "cell_type": "code",
   "execution_count": 18,
   "metadata": {},
   "outputs": [
    {
     "name": "stdout",
     "output_type": "stream",
     "text": [
      "{'f Квардакова Анастасия Владимировна психологии', 'f Копачевская Мария Андреевна психологии'}\n"
     ]
    },
    {
     "data": {
      "text/plain": [
       "331"
      ]
     },
     "execution_count": 18,
     "metadata": {},
     "output_type": "execute_result"
    }
   ],
   "source": [
    "popper(['Психологии',\n",
    " 'психологии'])"
   ]
  },
  {
   "cell_type": "code",
   "execution_count": 19,
   "metadata": {},
   "outputs": [
    {
     "name": "stdout",
     "output_type": "stream",
     "text": [
      "{'f Салтанова Анастасия Юрьевна Социологический', 'f Дуда Елизавета Александровна Социологический', 'm Вадимович Николай Вадимович Социологический', 'f Трусова Светлана Александровна Социологический', 'f Санникова Злата Антоновна Социологический', 'm Баранов Николай Вадимович Социологический', 'f Горошко Анна Александровна Социологический'}\n",
      "{'f Буковская Антонина Александровна социологический', 'f Сибирякова Юлия Васильевна социологический'}\n",
      "{'f Ефремова Дарья Владимировна соцфак'}\n"
     ]
    },
    {
     "data": {
      "text/plain": [
       "331"
      ]
     },
     "execution_count": 19,
     "metadata": {},
     "output_type": "execute_result"
    }
   ],
   "source": [
    "popper(['Соцфак',\n",
    " 'Социологический',\n",
    " 'социологический',\n",
    " 'соцфак',])"
   ]
  },
  {
   "cell_type": "markdown",
   "metadata": {},
   "source": [
    " \n",
    " 'ФББ',\n",
    " \n",
    " 'ФГУ',\n",
    "  'Фгу',\n",
    "   'фгу',\n",
    " \n",
    " 'ФИЯР',\n",
    "  'Фияр',\n",
    "   'фияр',\n",
    "\n",
    " 'ФКИ',\n",
    " \n",
    " 'ФМП',\n",
    " \n",
    " 'ФНМ',\n",
    "  'Факультет наук о материалах',\n",
    "   'факультет наук о материалах',"
   ]
  },
  {
   "cell_type": "code",
   "execution_count": 20,
   "metadata": {},
   "outputs": [
    {
     "name": "stdout",
     "output_type": "stream",
     "text": [
      "{'m Малый Николай Григорьевич Фгу'}\n",
      "{'f Буданова Анастасия Игоревна фгу'}\n"
     ]
    },
    {
     "data": {
      "text/plain": [
       "331"
      ]
     },
     "execution_count": 20,
     "metadata": {},
     "output_type": "execute_result"
    }
   ],
   "source": [
    "popper([ 'ФГУ',\n",
    "  'Фгу',\n",
    "   'фгу'])"
   ]
  },
  {
   "cell_type": "code",
   "execution_count": 21,
   "metadata": {},
   "outputs": [
    {
     "name": "stdout",
     "output_type": "stream",
     "text": [
      "{'f Колосёнок Полина Ивановна Фияр', 'f Гончарова Наталья Сергеевга Фияр', 'f Фурсаева Алена Алексеевна Фияр'}\n",
      "{'f Демьянчикова вера витальевна фияр', 'f Корнетова Мария Дмитриевна фияр', 'm Андросов Дмитрий Петрович фияр'}\n"
     ]
    },
    {
     "data": {
      "text/plain": [
       "331"
      ]
     },
     "execution_count": 21,
     "metadata": {},
     "output_type": "execute_result"
    }
   ],
   "source": [
    "popper([ 'ФИЯР',\n",
    "  'Фияр',\n",
    "   'фияр'])"
   ]
  },
  {
   "cell_type": "code",
   "execution_count": 22,
   "metadata": {},
   "outputs": [
    {
     "name": "stdout",
     "output_type": "stream",
     "text": [
      "{'m Финкельберг Яша Михайлович Факультет наук о материалах'}\n",
      "{'m Кузнецов Илья Игоревич факультет наук о материалах'}\n"
     ]
    },
    {
     "data": {
      "text/plain": [
       "331"
      ]
     },
     "execution_count": 22,
     "metadata": {},
     "output_type": "execute_result"
    }
   ],
   "source": [
    "popper([ 'ФНМ',\n",
    "  'Факультет наук о материалах',\n",
    "   'факультет наук о материалах'])"
   ]
  },
  {
   "cell_type": "markdown",
   "metadata": {},
   "source": [
    "\n",
    " 'ФФМ',\n",
    "  'Ффм',\n",
    "   'ффм',\n",
    " \n",
    " 'ФФФХИ',\n",
    "  'Фффхи',\n",
    "   'фундаментальной физико-химической инженерии',\n",
    "\n",
    " 'Факультет глобальных процессов',\n",
    " \n",
    " 'Факультет политологии',\n",
    " \n",
    " 'Фбб',"
   ]
  },
  {
   "cell_type": "code",
   "execution_count": 23,
   "metadata": {},
   "outputs": [
    {
     "name": "stdout",
     "output_type": "stream",
     "text": [
      "{'f Бахчинян Елизавета . Ффм'}\n",
      "{'f Лопатина Екатерина Дмитриевна ффм', 'f Серегина Анастасия Андреевна ффм'}\n"
     ]
    },
    {
     "data": {
      "text/plain": [
       "331"
      ]
     },
     "execution_count": 23,
     "metadata": {},
     "output_type": "execute_result"
    }
   ],
   "source": [
    "popper([ 'ФФМ',\n",
    "  'Ффм',\n",
    "   'ффм'])"
   ]
  },
  {
   "cell_type": "code",
   "execution_count": 24,
   "metadata": {},
   "outputs": [
    {
     "name": "stdout",
     "output_type": "stream",
     "text": [
      "{'m Вежняев Николай Борисович Фффхи', 'm Сайфулин Марсель Жаудатович Фффхи'}\n",
      "{'f Дубинина Татьяна Станиславовна фундаментальной физико-химической инженерии'}\n"
     ]
    },
    {
     "data": {
      "text/plain": [
       "331"
      ]
     },
     "execution_count": 24,
     "metadata": {},
     "output_type": "execute_result"
    }
   ],
   "source": [
    "popper([ 'ФФФХИ',\n",
    "  'Фффхи',\n",
    "   'фундаментальной физико-химической инженерии'])"
   ]
  },
  {
   "cell_type": "markdown",
   "metadata": {},
   "source": [
    " 'Физ',\n",
    " 'Физичесикй',\n",
    " 'Физический',\n",
    " 'Физфак',\n",
    " 'физ',\n",
    " 'физический',\n",
    " 'физфак',\n",
    " \n",
    " 'Физхим',\n",
    " \n",
    " 'Филол',\n",
    " 'Филологический',\n",
    "  'филолог-й',\n",
    " 'филологический',\n",
    " \n",
    " 'Филос',\n",
    " 'Философский',\n",
    "  'филос',\n",
    " \n",
    "  'филфак',"
   ]
  },
  {
   "cell_type": "code",
   "execution_count": 25,
   "metadata": {},
   "outputs": [
    {
     "name": "stdout",
     "output_type": "stream",
     "text": [
      "{'m Каррион Павел Франсискович Физ', 'f Каррион Росарио . Физ'}\n",
      "{'m Софронов Егор Андреевич Физичесикй'}\n",
      "{'m Бекесов Егор Владимирович Физический', 'm Видулин Иван Дмитриевич Физический', 'm Казначеев Михаил Александрович Физический', 'f Ускова Елена Александровна Физический', 'm Константинов Денис Вадимович Физический', 'm Кузнецов Игорь Николаевич Физический', 'm Гильфанов Ильнар Илшатович Физический', 'm Никитин Станислав Викторович Физический', 'm Алешновский Валентин Сергеевич Физический', 'f Романова Анастасия Алексеевна Физический', 'm Амелюшкин Иван Алексеевич Физический', 'm Закиров Марат Нафисович Физический', 'm Самоделкин Леонид Андреевич Физический', 'm Мусин Даниил Денисович Физический', 'f Наумова Анастасия Дмитриевна Физический', 'm Павлов Иван Сергеевич Физический', 'm Коновалов Павел Евгеньевич Физический', 'f Скибина Валерия Михайловна Физический', 'm Акметдинов Руслан Рашидович Физический', 'f Фурсова Надежда Юрьевна Физический', 'm Иванов Максим Юрьевич Физический', 'f Селезнева Евгения Алексеевна Физический', 'm Чечёткин Александр Валерьевич Физический', 'm Ивандиков Федор Игоревич Физический'}\n",
      "{'m Варламов Сергей Александрович физ'}\n",
      "{'m Обыденный Сергей Иванович физический', 'f Нурисламова Гульназ Нуровна физический', 'm Бурлаков Евгений Владимирович физический', 'm Дьячков Игорь Сергеевич физический', 'm Лаврухин Александр Сергеевич физический', 'f Самухина Юлия Владимировна физический', 'm Фалин Владимир Викторович физический', 'm Пластинин Иван Владимирович физический', 'm Наумкин Андрей Александрович физический'}\n",
      "{'m Павлеев Иван Александрович физфак'}\n"
     ]
    },
    {
     "data": {
      "text/plain": [
       "331"
      ]
     },
     "execution_count": 25,
     "metadata": {},
     "output_type": "execute_result"
    }
   ],
   "source": [
    "popper(['Физфак',\n",
    " 'Физ',\n",
    " 'Физичесикй',\n",
    " 'Физический',\n",
    " 'физ',\n",
    " 'физический',\n",
    " 'физфак'])"
   ]
  },
  {
   "cell_type": "code",
   "execution_count": 26,
   "metadata": {},
   "outputs": [
    {
     "name": "stdout",
     "output_type": "stream",
     "text": [
      "{'f Панаева Ксения Николаевна Филол'}\n",
      "{'f Быкова Любовь Константиновна филолог-й'}\n",
      "{'f Фейгина Тамара Евгеньевна филологический', 'f Ибадова Нармина Эльшад кызы филологический', 'f Пилюгина Диана Альбертовна филологический', 'f Исаева Ульяна Владимировна филологический', 'f Суворова Наталья Александровна филологический'}\n"
     ]
    },
    {
     "data": {
      "text/plain": [
       "331"
      ]
     },
     "execution_count": 26,
     "metadata": {},
     "output_type": "execute_result"
    }
   ],
   "source": [
    "popper([  'Филологический',\n",
    "    'Филол',\n",
    "  'филолог-й',\n",
    " 'филологический'])"
   ]
  },
  {
   "cell_type": "code",
   "execution_count": 27,
   "metadata": {},
   "outputs": [
    {
     "name": "stdout",
     "output_type": "stream",
     "text": [
      "{'f Семина Софья Алексеевна Филос', 'f Звездюк Юлия Юрьевна Филос'}\n",
      "{'f Вишневецкая анна - филос'}\n"
     ]
    },
    {
     "data": {
      "text/plain": [
       "331"
      ]
     },
     "execution_count": 27,
     "metadata": {},
     "output_type": "execute_result"
    }
   ],
   "source": [
    "popper([  'Философский',\n",
    "    'Филос',\n",
    "  'филос'])"
   ]
  },
  {
   "cell_type": "code",
   "execution_count": 28,
   "metadata": {},
   "outputs": [
    {
     "name": "stdout",
     "output_type": "stream",
     "text": [
      "{'f Малявкина Ольга Евгеньевна филфак', 'f Сенилова Александра Сергеевна филфак'}\n"
     ]
    },
    {
     "data": {
      "text/plain": [
       "331"
      ]
     },
     "execution_count": 28,
     "metadata": {},
     "output_type": "execute_result"
    }
   ],
   "source": [
    "popper(['Филфак', 'филфак'])"
   ]
  },
  {
   "cell_type": "markdown",
   "metadata": {},
   "source": [
    " 'Хим',\n",
    " 'Химический',\n",
    " \n",
    " 'Экон',\n",
    " 'Экономика',\n",
    " 'Экономический',\n",
    " 'Эф',\n",
    " 'Факультет экономический',\n",
    " 'экономический',\n",
    " 'эф',\n",
    " \n",
    " 'Юридический',\n",
    " 'Юрфак',\n",
    " 'юридический',\n",
    " 'юрфак'\n",
    "\n",
    " 'политологии',\n",
    "\n",
    " 'французский колледж мгу',"
   ]
  },
  {
   "cell_type": "code",
   "execution_count": 29,
   "metadata": {},
   "outputs": [
    {
     "name": "stdout",
     "output_type": "stream",
     "text": [
      "{'f Иванченко Анна Васильевна Хим'}\n"
     ]
    },
    {
     "data": {
      "text/plain": [
       "331"
      ]
     },
     "execution_count": 29,
     "metadata": {},
     "output_type": "execute_result"
    }
   ],
   "source": [
    "popper(['Химический',\n",
    "        'Хим'])"
   ]
  },
  {
   "cell_type": "code",
   "execution_count": 30,
   "metadata": {},
   "outputs": [
    {
     "name": "stdout",
     "output_type": "stream",
     "text": [
      "{'f Лисовская Анастасия Александр Экон'}\n",
      "{'m Минибаев Рустам Ахмедович Экономика'}\n",
      "{'f Щевьёва Любовь Сергеевна Эф', 'f Сафронова Анна Андреевна Эф'}\n",
      "{'m Солоухин Артём Александрович Факультет экономический'}\n",
      "{'m Космынин Ярослав Владимирович экономический', 'm Чирков Максим Андреевич экономический', 'm Саитов Шамиль Ришатович экономический'}\n",
      "{'f Горовая Ольга Алексеевна эф'}\n"
     ]
    },
    {
     "data": {
      "text/plain": [
       "331"
      ]
     },
     "execution_count": 30,
     "metadata": {},
     "output_type": "execute_result"
    }
   ],
   "source": [
    "popper([ 'Экономический',\n",
    " 'Экон',\n",
    " 'Экономика',\n",
    " 'Эф',\n",
    " 'Факультет экономический',\n",
    " 'экономический',\n",
    " 'эф'])"
   ]
  },
  {
   "cell_type": "code",
   "execution_count": 31,
   "metadata": {},
   "outputs": [
    {
     "name": "stdout",
     "output_type": "stream",
     "text": [
      "{'m Харин Александр Константинович Юрфак'}\n",
      "{'f Московская Наталия Владимировна юридический', 'f Карашевская Анна Александровна юридический'}\n",
      "{'f Андреева Яна Дмитриевна юрфак'}\n"
     ]
    },
    {
     "data": {
      "text/plain": [
       "331"
      ]
     },
     "execution_count": 31,
     "metadata": {},
     "output_type": "execute_result"
    }
   ],
   "source": [
    " popper(['Юридический',\n",
    " 'Юрфак',\n",
    " 'юридический',\n",
    " 'юрфак'])"
   ]
  },
  {
   "cell_type": "code",
   "execution_count": 32,
   "metadata": {},
   "outputs": [
    {
     "name": "stdout",
     "output_type": "stream",
     "text": [
      "{'m Ляховенко Олег Игоревич политологии'}\n"
     ]
    },
    {
     "data": {
      "text/plain": [
       "331"
      ]
     },
     "execution_count": 32,
     "metadata": {},
     "output_type": "execute_result"
    }
   ],
   "source": [
    "popper(['Политологии', 'политологии'])"
   ]
  },
  {
   "cell_type": "code",
   "execution_count": 33,
   "metadata": {},
   "outputs": [
    {
     "name": "stdout",
     "output_type": "stream",
     "text": [
      "{'f Шабалина Юлия Андреевна французский колледж мгу'}\n"
     ]
    },
    {
     "data": {
      "text/plain": [
       "331"
      ]
     },
     "execution_count": 33,
     "metadata": {},
     "output_type": "execute_result"
    }
   ],
   "source": [
    "popper(['Французский колледж мгу', 'французский колледж мгу'])"
   ]
  },
  {
   "cell_type": "code",
   "execution_count": 34,
   "metadata": {},
   "outputs": [
    {
     "data": {
      "text/plain": [
       "['Академический хор МГУ',\n",
       " 'Биофак',\n",
       " 'ВМК',\n",
       " 'ВШГА',\n",
       " 'ВШТ',\n",
       " 'Вшп',\n",
       " 'Географический',\n",
       " 'Геологический',\n",
       " 'Геофак',\n",
       " 'Глобальные процессы',\n",
       " 'Государственное управление',\n",
       " 'Журналистики',\n",
       " 'ИСАА',\n",
       " 'Искусств',\n",
       " 'Исторический',\n",
       " 'МехМат',\n",
       " 'Мировой политики',\n",
       " 'НИИ механики',\n",
       " 'Политологии',\n",
       " 'Почвоведения',\n",
       " 'Психологии',\n",
       " 'Соцфак',\n",
       " 'ФББ',\n",
       " 'ФГУ',\n",
       " 'ФИЯР',\n",
       " 'ФКИ',\n",
       " 'ФМП',\n",
       " 'ФНМ',\n",
       " 'ФФМ',\n",
       " 'ФФФХИ',\n",
       " 'Факультет глобальных процессов',\n",
       " 'Факультет политологии',\n",
       " 'Фбб',\n",
       " 'Физфак',\n",
       " 'Физхим',\n",
       " 'Филологический',\n",
       " 'Философский',\n",
       " 'Филфак',\n",
       " 'Французский колледж мгу',\n",
       " 'Химический',\n",
       " 'Экономический',\n",
       " 'Юридический']"
      ]
     },
     "execution_count": 34,
     "metadata": {},
     "output_type": "execute_result"
    }
   ],
   "source": [
    "sorted(list(facts.keys()))"
   ]
  },
  {
   "cell_type": "code",
   "execution_count": 35,
   "metadata": {},
   "outputs": [
    {
     "data": {
      "text/plain": [
       "42"
      ]
     },
     "execution_count": 35,
     "metadata": {},
     "output_type": "execute_result"
    }
   ],
   "source": [
    "len(list(facts.keys()))"
   ]
  },
  {
   "cell_type": "code",
   "execution_count": null,
   "metadata": {},
   "outputs": [],
   "source": []
  },
  {
   "cell_type": "code",
   "execution_count": 36,
   "metadata": {},
   "outputs": [
    {
     "name": "stdout",
     "output_type": "stream",
     "text": [
      "331 157 173 1\n"
     ]
    }
   ],
   "source": [
    "years = defaultdict(set)\n",
    "count = 0\n",
    "f=0\n",
    "m=0\n",
    "n=0\n",
    "with open(\"списки_осенний_бал_fm.csv\") as ff:\n",
    "    for i in ff.readlines()[1:]:\n",
    "        count += 1\n",
    "        ii = i.rstrip().split(';')\n",
    "        if ii[0] == 'f':\n",
    "            f = f + 1\n",
    "        elif ii[0] == 'm':\n",
    "            m = m + 1\n",
    "        elif ii[0] == '?':\n",
    "            n = n + 1\n",
    "        years[ii[5]].add(' '.join(filter(None, ii[:-1])))\n",
    "print(count, m, f, n)"
   ]
  },
  {
   "cell_type": "code",
   "execution_count": 37,
   "metadata": {},
   "outputs": [
    {
     "data": {
      "text/plain": [
       "['1 курс',\n",
       " '1 маг',\n",
       " '2',\n",
       " '2 курс',\n",
       " '3',\n",
       " '3 курс',\n",
       " '4',\n",
       " '4 курс',\n",
       " '5',\n",
       " '5 курс',\n",
       " '6',\n",
       " 'аспирант',\n",
       " 'аспирант 2 год',\n",
       " 'аспирантура',\n",
       " 'выпускник',\n",
       " 'магистратура, 1',\n",
       " 'магистратура, 1 курс',\n",
       " 'магистратура, 2',\n",
       " 'магистратура, 2 курс',\n",
       " 'сотрудник']"
      ]
     },
     "execution_count": 37,
     "metadata": {},
     "output_type": "execute_result"
    }
   ],
   "source": [
    "sorted(list(years.keys()))"
   ]
  },
  {
   "cell_type": "code",
   "execution_count": 38,
   "metadata": {},
   "outputs": [
    {
     "data": {
      "text/plain": [
       "20"
      ]
     },
     "execution_count": 38,
     "metadata": {},
     "output_type": "execute_result"
    }
   ],
   "source": [
    "len(sorted(list(years.keys())))"
   ]
  },
  {
   "cell_type": "code",
   "execution_count": null,
   "metadata": {},
   "outputs": [],
   "source": []
  },
  {
   "cell_type": "code",
   "execution_count": 39,
   "metadata": {},
   "outputs": [],
   "source": [
    "def popper(names):\n",
    "    global years\n",
    "    for name in names[1:]:\n",
    "        years[names[0]]=years[names[0]].union(years[name])\n",
    "        print(years.pop(name))\n",
    "    return sum(len(years[i]) for i in years)"
   ]
  },
  {
   "cell_type": "code",
   "execution_count": 45,
   "metadata": {},
   "outputs": [
    {
     "name": "stdout",
     "output_type": "stream",
     "text": [
      "set()\n",
      "set()\n",
      "set()\n",
      "{'m Люков Дмитрий Александрович ВМК'}\n"
     ]
    },
    {
     "data": {
      "text/plain": [
       "331"
      ]
     },
     "execution_count": 45,
     "metadata": {},
     "output_type": "execute_result"
    }
   ],
   "source": [
    " popper(['5', '5 курс', 'магистратура, 1', 'магистратура, 1 курс', '1 маг'])"
   ]
  },
  {
   "cell_type": "code",
   "execution_count": 41,
   "metadata": {},
   "outputs": [
    {
     "name": "stdout",
     "output_type": "stream",
     "text": [
      "{'f Торбунова Екатерина Александровна Геологический'}\n",
      "{'f Гончарова Наталья Сергеевга Фияр', 'm Внучков Дмитрий Александрович Геологический', 'm Смирнов Александр Сергеевич ВМК', 'f Трусова Светлана Александровна Социологический', 'm Гаврилов Павел Викторович ВМК', 'f Зелихина Светлана Васильевна Геогр', 'm Саитов Шамиль Ришатович экономический', 'm Бондаренко Сергей Дмитриевич ФФФХИ', 'm Углов Михаил Сергеевич Почва', 'f Щевьёва Любовь Сергеевна Эф', 'f Демьянчикова вера витальевна фияр', 'm Ермолаев Павел Альбертович ВМК', 'm Кузьмин Ага Аббас Исмулла Константинович ВШГА', '? Нгуен Кхань Кхуен вмк', 'f Филимонова Екатерина Александровна ВМК', 'm Сандалов Федор Дмитриевич геол', 'f Дубровская Татьяна Валерьевна географический', 'f Файзуллина Элина Эдуардовна Вшт', 'f Квардакова Анастасия Владимировна психологии', 'm Солоухин Артём Александрович Факультет экономический', 'm Харин Александр Константинович Юрфак'}\n"
     ]
    },
    {
     "data": {
      "text/plain": [
       "331"
      ]
     },
     "execution_count": 41,
     "metadata": {},
     "output_type": "execute_result"
    }
   ],
   "source": [
    " popper(['6', 'магистратура, 2', 'магистратура, 2 курс'])"
   ]
  },
  {
   "cell_type": "code",
   "execution_count": 43,
   "metadata": {},
   "outputs": [
    {
     "name": "stdout",
     "output_type": "stream",
     "text": [
      "{'m Машоха Серёжа Алексеевич ВМК', 'f Пилюгина Диана Альбертовна филологический', 'f Брылева Алина Сергеевна Почвоведение', 'f Буковская Антонина Александровна социологический', 'f Скибина Валерия Михайловна Физический', 'm Софронов Егор Андреевич Физичесикй', 'f Юдина Маргарита Евгеньевна Геологический', 'm Родин Егор Геннадьевич ВМК', 'f Санникова Злата Антоновна Социологический'}\n"
     ]
    },
    {
     "data": {
      "text/plain": [
       "331"
      ]
     },
     "execution_count": 43,
     "metadata": {},
     "output_type": "execute_result"
    }
   ],
   "source": [
    "popper(['1', '1 курс'])"
   ]
  },
  {
   "cell_type": "code",
   "execution_count": 47,
   "metadata": {},
   "outputs": [
    {
     "name": "stdout",
     "output_type": "stream",
     "text": [
      "{'m Перегудов Юрий Дмитриевич Геологический', 'f Гончарова Анна Владиславовна Почвоведения'}\n"
     ]
    },
    {
     "data": {
      "text/plain": [
       "331"
      ]
     },
     "execution_count": 47,
     "metadata": {},
     "output_type": "execute_result"
    }
   ],
   "source": [
    "popper(['2', '2 курс'])"
   ]
  },
  {
   "cell_type": "code",
   "execution_count": 49,
   "metadata": {},
   "outputs": [
    {
     "name": "stdout",
     "output_type": "stream",
     "text": [
      "{'f Белова Александра Владимировна Филологический', 'f Салтанова Анастасия Юрьевна Социологический', 'f Дуда Елизавета Александровна Социологический', 'f Котлярова Елизавета Владимировна Биологический'}\n"
     ]
    },
    {
     "data": {
      "text/plain": [
       "331"
      ]
     },
     "execution_count": 49,
     "metadata": {},
     "output_type": "execute_result"
    }
   ],
   "source": [
    "popper(['3', '3 курс'])"
   ]
  },
  {
   "cell_type": "code",
   "execution_count": 51,
   "metadata": {},
   "outputs": [
    {
     "name": "stdout",
     "output_type": "stream",
     "text": [
      "{'f Бескова Лиза Александровна Геологический', 'f Воронина Алиса Константиновна биологический'}\n"
     ]
    },
    {
     "data": {
      "text/plain": [
       "331"
      ]
     },
     "execution_count": 51,
     "metadata": {},
     "output_type": "execute_result"
    }
   ],
   "source": [
    "popper(['4', '4 курс'])"
   ]
  },
  {
   "cell_type": "code",
   "execution_count": 53,
   "metadata": {},
   "outputs": [
    {
     "name": "stdout",
     "output_type": "stream",
     "text": [
      "{'m Бурлаков Евгений Владимирович физический'}\n",
      "{'f Буданова Анастасия Игоревна ФГУ', 'f Овчеренко Ульяна Владимировна Филологический', 'm Фаерштейн Игорь Семенович механико-математический'}\n"
     ]
    },
    {
     "data": {
      "text/plain": [
       "331"
      ]
     },
     "execution_count": 53,
     "metadata": {},
     "output_type": "execute_result"
    }
   ],
   "source": [
    "popper(['аспирант', 'аспирант 2 год', 'аспирантура'])"
   ]
  },
  {
   "cell_type": "code",
   "execution_count": null,
   "metadata": {},
   "outputs": [],
   "source": []
  },
  {
   "cell_type": "code",
   "execution_count": 54,
   "metadata": {},
   "outputs": [
    {
     "data": {
      "text/plain": [
       "['1', '2', '3', '4', '5', '6', 'аспирант', 'выпускник', 'сотрудник']"
      ]
     },
     "execution_count": 54,
     "metadata": {},
     "output_type": "execute_result"
    }
   ],
   "source": [
    "sorted(list(years.keys()))"
   ]
  },
  {
   "cell_type": "code",
   "execution_count": 55,
   "metadata": {},
   "outputs": [
    {
     "data": {
      "text/plain": [
       "9"
      ]
     },
     "execution_count": 55,
     "metadata": {},
     "output_type": "execute_result"
    }
   ],
   "source": [
    "len(sorted(list(years.keys())))"
   ]
  },
  {
   "cell_type": "code",
   "execution_count": null,
   "metadata": {},
   "outputs": [],
   "source": []
  },
  {
   "cell_type": "code",
   "execution_count": 56,
   "metadata": {},
   "outputs": [],
   "source": [
    "import matplotlib.pyplot as plt\n",
    "from collections import OrderedDict"
   ]
  },
  {
   "cell_type": "code",
   "execution_count": 57,
   "metadata": {},
   "outputs": [],
   "source": [
    "def plotter(title, ylabel, facts, axis, name):\n",
    "    res=[]\n",
    "    for fact in sorted(facts.keys()):\n",
    "        res.append((fact, len(facts[fact])))\n",
    "    \n",
    "    count=0\n",
    "    for i,j in sorted(res, key=lambda x: x[1], reverse=True):\n",
    "        count += j\n",
    "        print(i, j)\n",
    "    print(len(facts.keys()))\n",
    "    print(count)\n",
    "\n",
    "    #fa = {i:len(j) for i,j in facts.items()}\n",
    "    fa = defaultdict(lambda: [0, 0, 0])\n",
    "    for i,k in facts.items():\n",
    "        for j in k:\n",
    "            if j.split(' ')[0] == 'm':\n",
    "                fa[i][0] += 1\n",
    "            elif j.split(' ')[0] == 'f':\n",
    "                fa[i][1] += 1\n",
    "            elif j.split(' ')[0] == '?':\n",
    "                fa[i][2] += 1\n",
    " \n",
    "    fa=OrderedDict(sorted(fa.items(), key=lambda t: t[0]))\n",
    "    print(fa)\n",
    "    print(len(fa.keys()))  \n",
    "    print(sum(sum(fa[i]) for i in fa))\n",
    "    \n",
    "    m = [i[0] for i in fa.values()]\n",
    "    f = [i[1] for i in fa.values()]\n",
    "    o = [i[2] for i in fa.values()]\n",
    "    \n",
    "    plt.figure(figsize=(15,8))\n",
    "    p1 = plt.bar(fa.keys(), m)\n",
    "    p2 = plt.bar(fa.keys(), f, bottom=m)\n",
    "    p3 = plt.bar(fa.keys(), o, bottom=[x + y for x, y in zip(m, f)])\n",
    "    plt.xticks(list(fa.keys()), list(fa.keys()), rotation='vertical')\n",
    "    plt.ylabel(ylabel, size=17)\n",
    "    plt.title(title, size=17)\n",
    "    plt.axis(axis)\n",
    "    plt.legend((p1[0], p2[0], p3[0]), ('Men', 'Women', 'Not known'), fontsize=17, loc=[0.85, 0.8])\n",
    "    plt.tick_params(labelsize=17)\n",
    "    #plt.figure(figsize=(10,60))\n",
    "    #plt.show()\n",
    "    plt.savefig(name, bbox_inches = 'tight')"
   ]
  },
  {
   "cell_type": "code",
   "execution_count": 58,
   "metadata": {},
   "outputs": [
    {
     "data": {
      "text/plain": [
       "dict_keys(['ФИЯР', 'Фбб', 'ВМК', 'Экономический', 'ФФМ', 'Географический', 'Химический', 'ФФФХИ', 'Геофак', 'Геологический', 'ФКИ', 'Юридический', 'Почвоведения', 'Факультет глобальных процессов', 'Филологический', 'Психологии', 'Исторический', 'НИИ механики', 'Журналистики', 'МехМат', 'Мировой политики', 'ФМП', 'ФНМ', 'Государственное управление', 'Соцфак', 'ВШГА', 'Вшп', 'Философский', 'ФББ', 'Физхим', 'Глобальные процессы', 'ФГУ', 'Академический хор МГУ', 'ИСАА', 'Физфак', 'Искусств', 'Факультет политологии', 'Биофак', 'ВШТ', 'Филфак', 'Политологии', 'Французский колледж мгу'])"
      ]
     },
     "execution_count": 58,
     "metadata": {},
     "output_type": "execute_result"
    }
   ],
   "source": [
    "facts.keys()"
   ]
  },
  {
   "cell_type": "code",
   "execution_count": 61,
   "metadata": {},
   "outputs": [
    {
     "data": {
      "text/plain": [
       "42"
      ]
     },
     "execution_count": 61,
     "metadata": {},
     "output_type": "execute_result"
    }
   ],
   "source": [
    "len(facts)"
   ]
  },
  {
   "cell_type": "code",
   "execution_count": 64,
   "metadata": {},
   "outputs": [
    {
     "name": "stdout",
     "output_type": "stream",
     "text": [
      "Физфак 39\n",
      "ВМК 32\n",
      "МехМат 31\n",
      "Географический 20\n",
      "Филологический 16\n",
      "Химический 16\n",
      "Экономический 16\n",
      "Геологический 15\n",
      "Исторический 14\n",
      "Почвоведения 14\n",
      "ФИЯР 13\n",
      "Биофак 12\n",
      "Соцфак 11\n",
      "Юридический 10\n",
      "Журналистики 8\n",
      "Психологии 7\n",
      "ФФФХИ 6\n",
      "Философский 6\n",
      "ФГУ 5\n",
      "ФФМ 5\n",
      "ИСАА 3\n",
      "Мировой политики 3\n",
      "ФББ 3\n",
      "ФНМ 3\n",
      "ВШГА 2\n",
      "ВШТ 2\n",
      "Искусств 2\n",
      "НИИ механики 2\n",
      "Филфак 2\n",
      "Академический хор МГУ 1\n",
      "Вшп 1\n",
      "Геофак 1\n",
      "Глобальные процессы 1\n",
      "Государственное управление 1\n",
      "Политологии 1\n",
      "ФКИ 1\n",
      "ФМП 1\n",
      "Факультет глобальных процессов 1\n",
      "Факультет политологии 1\n",
      "Фбб 1\n",
      "Физхим 1\n",
      "Французский колледж мгу 1\n",
      "42\n",
      "331\n",
      "OrderedDict([('Академический хор МГУ', [1, 0, 0]), ('Биофак', [1, 11, 0]), ('ВМК', [23, 8, 1]), ('ВШГА', [1, 1, 0]), ('ВШТ', [0, 2, 0]), ('Вшп', [0, 1, 0]), ('Географический', [12, 8, 0]), ('Геологический', [6, 9, 0]), ('Геофак', [1, 0, 0]), ('Глобальные процессы', [0, 1, 0]), ('Государственное управление', [0, 1, 0]), ('Журналистики', [1, 7, 0]), ('ИСАА', [2, 1, 0]), ('Искусств', [1, 1, 0]), ('Исторический', [5, 9, 0]), ('МехМат', [23, 8, 0]), ('Мировой политики', [2, 1, 0]), ('НИИ механики', [1, 1, 0]), ('Политологии', [1, 0, 0]), ('Почвоведения', [3, 11, 0]), ('Психологии', [0, 7, 0]), ('Соцфак', [2, 9, 0]), ('ФББ', [0, 3, 0]), ('ФГУ', [3, 2, 0]), ('ФИЯР', [2, 11, 0]), ('ФКИ', [1, 0, 0]), ('ФМП', [1, 0, 0]), ('ФНМ', [3, 0, 0]), ('ФФМ', [1, 4, 0]), ('ФФФХИ', [5, 1, 0]), ('Факультет глобальных процессов', [0, 1, 0]), ('Факультет политологии', [0, 1, 0]), ('Фбб', [0, 1, 0]), ('Физфак', [30, 9, 0]), ('Физхим', [1, 0, 0]), ('Филологический', [1, 15, 0]), ('Философский', [2, 4, 0]), ('Филфак', [0, 2, 0]), ('Французский колледж мгу', [0, 1, 0]), ('Химический', [8, 8, 0]), ('Экономический', [7, 9, 0]), ('Юридический', [6, 4, 0])])\n",
      "42\n",
      "331\n"
     ]
    },
    {
     "data": {
      "image/png": "[encoded data removed]",
      "text/plain": [
       "<Figure size 1080x576 with 1 Axes>"
      ]
     },
     "metadata": {},
     "output_type": "display_data"
    }
   ],
   "source": [
    "plotter('Распределение участников бала по факультетам', 'Количество участников бала', facts, [-1, 42, 0, 50], 'facts.png')"
   ]
  },
  {
   "cell_type": "code",
   "execution_count": 65,
   "metadata": {},
   "outputs": [
    {
     "name": "stdout",
     "output_type": "stream",
     "text": [
      "выпускник 63\n",
      "3 59\n",
      "2 47\n",
      "5 45\n",
      "4 36\n",
      "аспирант 32\n",
      "6 30\n",
      "сотрудник 10\n",
      "1 9\n",
      "9\n",
      "331\n",
      "OrderedDict([('1', [3, 6, 0]), ('2', [18, 29, 0]), ('3', [22, 37, 0]), ('4', [18, 18, 0]), ('5', [18, 27, 0]), ('6', [16, 13, 1]), ('аспирант', [15, 17, 0]), ('выпускник', [41, 22, 0]), ('сотрудник', [6, 4, 0])])\n",
      "9\n",
      "331\n"
     ]
    },
    {
     "data": {
      "image/png": "[encoded data removed]",
      "text/plain": [
       "<Figure size 1080x576 with 1 Axes>"
      ]
     },
     "metadata": {},
     "output_type": "display_data"
    }
   ],
   "source": [
    "plotter('Распределение участников бала по курсам', 'Количество участников бала', years, [-1, 9, 0, 80], 'years.png')"
   ]
  },
  {
   "cell_type": "code",
   "execution_count": null,
   "metadata": {},
   "outputs": [],
   "source": []
  }
 ],
 "metadata": {
  "kernelspec": {
   "display_name": "Python 3",
   "language": "python",
   "name": "python3"
  },
  "language_info": {
   "codemirror_mode": {
    "name": "ipython",
    "version": 3
   },
   "file_extension": ".py",
   "mimetype": "text/x-python",
   "name": "python",
   "nbconvert_exporter": "python",
   "pygments_lexer": "ipython3",
   "version": "3.6.4"
  }
 },
 "nbformat": 4,
 "nbformat_minor": 2
}
